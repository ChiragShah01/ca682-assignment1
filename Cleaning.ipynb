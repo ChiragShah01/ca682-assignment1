{
 "cells": [
  {
   "cell_type": "code",
   "execution_count": 1,
   "id": "09c79126-76bb-4a8e-8bd5-9c51f81abef3",
   "metadata": {},
   "outputs": [],
   "source": [
    "#Data Cleaning\n",
    "#read the data\n",
    "import pandas as pd\n",
    "\n",
    "df=pd.read_csv(\"/Users/chiragshah/Downloads/Documents/Semester 1/CA682 Data Visualization/Visualisation Assignment/Dataset/price_paid_records.csv\")"
   ]
  },
  {
   "cell_type": "code",
   "execution_count": 34,
   "id": "fc8adab0-7291-48c5-af2a-83f9095459f7",
   "metadata": {},
   "outputs": [
    {
     "data": {
      "text/html": [
       "<div>\n",
       "<style scoped>\n",
       "    .dataframe tbody tr th:only-of-type {\n",
       "        vertical-align: middle;\n",
       "    }\n",
       "\n",
       "    .dataframe tbody tr th {\n",
       "        vertical-align: top;\n",
       "    }\n",
       "\n",
       "    .dataframe thead th {\n",
       "        text-align: right;\n",
       "    }\n",
       "</style>\n",
       "<table border=\"1\" class=\"dataframe\">\n",
       "  <thead>\n",
       "    <tr style=\"text-align: right;\">\n",
       "      <th></th>\n",
       "      <th>Transaction unique identifier</th>\n",
       "      <th>Price</th>\n",
       "      <th>Date of Transfer</th>\n",
       "      <th>Property Type</th>\n",
       "      <th>Old/New</th>\n",
       "      <th>Duration</th>\n",
       "      <th>Town/City</th>\n",
       "      <th>District</th>\n",
       "      <th>County</th>\n",
       "      <th>PPDCategory Type</th>\n",
       "      <th>Record Status - monthly file only</th>\n",
       "      <th>Year</th>\n",
       "    </tr>\n",
       "  </thead>\n",
       "  <tbody>\n",
       "  </tbody>\n",
       "</table>\n",
       "</div>"
      ],
      "text/plain": [
       "Empty DataFrame\n",
       "Columns: [Transaction unique identifier, Price, Date of Transfer, Property Type, Old/New, Duration, Town/City, District, County, PPDCategory Type, Record Status - monthly file only, Year]\n",
       "Index: []"
      ]
     },
     "execution_count": 34,
     "metadata": {},
     "output_type": "execute_result"
    }
   ],
   "source": [
    "#check for null values\n",
    "df.isnull().sum()\n",
    "\n",
    "#check for price <0\n",
    "df[df.Price<0]"
   ]
  },
  {
   "cell_type": "code",
   "execution_count": 3,
   "id": "0162a604-3072-43c8-90b2-c9cfa9557783",
   "metadata": {},
   "outputs": [],
   "source": [
    "#Our analysis require year so extract year from Date of Transfer column\n",
    "df['Year']=pd.to_datetime(df['Date of Transfer']).dt.to_period('Y')"
   ]
  },
  {
   "cell_type": "code",
   "execution_count": 41,
   "id": "28470bd3-705a-45bd-bf49-3e954a1cea62",
   "metadata": {},
   "outputs": [],
   "source": [
    "# READ LONGITUDE AND LATITUDE DATA FROM https://simplemaps.com/data/gb-cities\n",
    "df_new=pd.read_csv(\"/Users/chiragshah/Downloads/Documents/Semester 1/CA682 Data Visualization/Visualisation Assignment/Dataset/gb.csv\")"
   ]
  },
  {
   "cell_type": "code",
   "execution_count": 42,
   "id": "1979ede7-2ef5-4360-ab64-c5147acd9f85",
   "metadata": {},
   "outputs": [],
   "source": [
    "#drop columns\n",
    "df_new.drop(columns=['country','iso2','admin_name','capital','population','population_proper'],inplace=True)\n",
    "\n",
    "\n",
    "#rename columns\n",
    "df_new.rename(columns={'city':'Town/City'},inplace=True)"
   ]
  },
  {
   "cell_type": "code",
   "execution_count": 43,
   "id": "bb1a8414-d182-46f6-be8e-b4ab00a1c800",
   "metadata": {},
   "outputs": [
    {
     "name": "stdout",
     "output_type": "stream",
     "text": [
      "<class 'pandas.core.frame.DataFrame'>\n",
      "RangeIndex: 2680 entries, 0 to 2679\n",
      "Data columns (total 3 columns):\n",
      " #   Column     Non-Null Count  Dtype  \n",
      "---  ------     --------------  -----  \n",
      " 0   Town/City  2680 non-null   object \n",
      " 1   lat        2680 non-null   float64\n",
      " 2   lng        2680 non-null   float64\n",
      "dtypes: float64(2), object(1)\n",
      "memory usage: 62.9+ KB\n"
     ]
    }
   ],
   "source": [
    "df_new.info()"
   ]
  },
  {
   "cell_type": "code",
   "execution_count": null,
   "id": "4d3bdbe1-aa37-4182-a743-af9ce86defc5",
   "metadata": {
    "tags": []
   },
   "outputs": [],
   "source": [
    "#Store cleaned data to a new file\n",
    "df_new.to_csv(\"/Users/chiragshah/Downloads/Documents/Semester 1/CA682 Data Visualization/Visualisation Assignment/Dataset/cleaned_data.csv\")"
   ]
  }
 ],
 "metadata": {
  "kernelspec": {
   "display_name": "Python 3 (ipykernel)",
   "language": "python",
   "name": "python3"
  },
  "language_info": {
   "codemirror_mode": {
    "name": "ipython",
    "version": 3
   },
   "file_extension": ".py",
   "mimetype": "text/x-python",
   "name": "python",
   "nbconvert_exporter": "python",
   "pygments_lexer": "ipython3",
   "version": "3.9.13"
  },
  "toc-autonumbering": true,
  "toc-showcode": false,
  "toc-showmarkdowntxt": false,
  "toc-showtags": false
 },
 "nbformat": 4,
 "nbformat_minor": 5
}
