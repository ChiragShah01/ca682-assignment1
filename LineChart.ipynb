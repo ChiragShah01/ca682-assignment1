{
 "cells": [
  {
   "cell_type": "code",
   "execution_count": 1,
   "id": "c2697350-4374-4fa1-b3f7-9acee200692a",
   "metadata": {},
   "outputs": [],
   "source": [
    "#Read the data\n",
    "import pandas as pd\n",
    "import seaborn as sns\n",
    "import matplotlib.pyplot as plt\n",
    "df= pd.read_csv(\"/Users/chiragshah/Downloads/Documents/Semester 1/CA682 Data Visualization/Visualisation Assignment/Dataset/UK_HousingPrices.csv\")"
   ]
  },
  {
   "cell_type": "code",
   "execution_count": 2,
   "id": "b52ffe50-ea4c-493d-97fe-dc9d5ceee870",
   "metadata": {},
   "outputs": [],
   "source": [
    "#drop Unnamed: 0 column\n",
    "df.drop(columns='Unnamed: 0',inplace=True)"
   ]
  },
  {
   "cell_type": "code",
   "execution_count": 3,
   "id": "87126477-41a1-4aca-ad6b-e6c2ed710e78",
   "metadata": {},
   "outputs": [],
   "source": [
    "#data preparation --Begin\n",
    "#Exploratory question : Identify the average housing price of the UK of each year. Select only top 5 cities.\n",
    "\n",
    "#Columns required - Year, Price, Town/City, Transaction Unique Identifier\n",
    "\n",
    "average_df=pd.DataFrame(df[['Transaction unique identifier','Price','Town/City','Year']])\n"
   ]
  },
  {
   "cell_type": "code",
   "execution_count": 4,
   "id": "1f3bedf5-59d2-4b37-84c0-a65b77ca458f",
   "metadata": {},
   "outputs": [],
   "source": [
    "#group by year and price mean to caculate entire UK average\n",
    "avg=average_df.groupby(by='Year').mean()"
   ]
  },
  {
   "cell_type": "code",
   "execution_count": 5,
   "id": "2706c221-bacc-4dbf-a0ba-eb543ce7f88c",
   "metadata": {
    "tags": []
   },
   "outputs": [],
   "source": [
    "#round to 2 decimal points\n",
    "avg.Price=round(avg.Price,2)"
   ]
  },
  {
   "cell_type": "code",
   "execution_count": 6,
   "id": "463f621b-2b0b-4999-ac4a-285814233682",
   "metadata": {},
   "outputs": [],
   "source": [
    "avg.reset_index()\n",
    "avg['Town/City']='UK Average'\n",
    "avg=avg.reset_index()"
   ]
  },
  {
   "cell_type": "code",
   "execution_count": 7,
   "id": "579d8c66-5ab6-4420-ad6b-3262202b8376",
   "metadata": {},
   "outputs": [],
   "source": [
    "#group by top 5 cities and price mean by each year\n",
    "Top5CitiesAvg=average_df[average_df['Town/City'].isin(average_df['Town/City'].value_counts()[0:2].keys())].groupby(by=['Town/City','Year']).mean()"
   ]
  },
  {
   "cell_type": "code",
   "execution_count": 8,
   "id": "0e0bcd2c-a847-40e2-8a4f-c3ef1f08edce",
   "metadata": {},
   "outputs": [],
   "source": [
    "#reset index to loose group by columns\n",
    "Top5CitiesAvg=Top5CitiesAvg.reset_index()"
   ]
  },
  {
   "cell_type": "code",
   "execution_count": 9,
   "id": "9c3a4962-0ebe-40a1-8b54-b28182907511",
   "metadata": {},
   "outputs": [],
   "source": [
    "#combine top 5 cities averages and UK average by each year into one dataframe\n",
    "UK_Avg=pd.concat([Top5CitiesAvg,avg])\n",
    "\n",
    "#reconstruct index of new dataframe\n",
    "UK_Avg.index=pd.RangeIndex(len(UK_Avg))\n",
    "\n",
    "#data preparation --End"
   ]
  },
  {
   "cell_type": "code",
   "execution_count": 21,
   "id": "161d60af-7c85-4251-82ae-901b4cd09498",
   "metadata": {
    "collapsed": true,
    "jupyter": {
     "outputs_hidden": true
    },
    "tags": []
   },
   "outputs": [
    {
     "data": {
      "text/html": [
       "<div>\n",
       "<style scoped>\n",
       "    .dataframe tbody tr th:only-of-type {\n",
       "        vertical-align: middle;\n",
       "    }\n",
       "\n",
       "    .dataframe tbody tr th {\n",
       "        vertical-align: top;\n",
       "    }\n",
       "\n",
       "    .dataframe thead th {\n",
       "        text-align: right;\n",
       "    }\n",
       "</style>\n",
       "<table border=\"1\" class=\"dataframe\">\n",
       "  <thead>\n",
       "    <tr style=\"text-align: right;\">\n",
       "      <th></th>\n",
       "      <th>Town/City</th>\n",
       "      <th>Year</th>\n",
       "      <th>Price</th>\n",
       "    </tr>\n",
       "  </thead>\n",
       "  <tbody>\n",
       "    <tr>\n",
       "      <th>0</th>\n",
       "      <td>BIRMINGHAM</td>\n",
       "      <td>1995</td>\n",
       "      <td>51332.973537</td>\n",
       "    </tr>\n",
       "    <tr>\n",
       "      <th>1</th>\n",
       "      <td>BIRMINGHAM</td>\n",
       "      <td>1996</td>\n",
       "      <td>51825.784376</td>\n",
       "    </tr>\n",
       "    <tr>\n",
       "      <th>2</th>\n",
       "      <td>BIRMINGHAM</td>\n",
       "      <td>1997</td>\n",
       "      <td>55774.519722</td>\n",
       "    </tr>\n",
       "    <tr>\n",
       "      <th>3</th>\n",
       "      <td>BIRMINGHAM</td>\n",
       "      <td>1998</td>\n",
       "      <td>58658.715066</td>\n",
       "    </tr>\n",
       "    <tr>\n",
       "      <th>4</th>\n",
       "      <td>BIRMINGHAM</td>\n",
       "      <td>1999</td>\n",
       "      <td>63519.954374</td>\n",
       "    </tr>\n",
       "    <tr>\n",
       "      <th>...</th>\n",
       "      <td>...</td>\n",
       "      <td>...</td>\n",
       "      <td>...</td>\n",
       "    </tr>\n",
       "    <tr>\n",
       "      <th>133</th>\n",
       "      <td>UK Average</td>\n",
       "      <td>2013</td>\n",
       "      <td>256852.380000</td>\n",
       "    </tr>\n",
       "    <tr>\n",
       "      <th>134</th>\n",
       "      <td>UK Average</td>\n",
       "      <td>2014</td>\n",
       "      <td>279107.480000</td>\n",
       "    </tr>\n",
       "    <tr>\n",
       "      <th>135</th>\n",
       "      <td>UK Average</td>\n",
       "      <td>2015</td>\n",
       "      <td>296040.920000</td>\n",
       "    </tr>\n",
       "    <tr>\n",
       "      <th>136</th>\n",
       "      <td>UK Average</td>\n",
       "      <td>2016</td>\n",
       "      <td>309769.170000</td>\n",
       "    </tr>\n",
       "    <tr>\n",
       "      <th>137</th>\n",
       "      <td>UK Average</td>\n",
       "      <td>2017</td>\n",
       "      <td>328828.460000</td>\n",
       "    </tr>\n",
       "  </tbody>\n",
       "</table>\n",
       "<p>138 rows × 3 columns</p>\n",
       "</div>"
      ],
      "text/plain": [
       "      Town/City  Year          Price\n",
       "0    BIRMINGHAM  1995   51332.973537\n",
       "1    BIRMINGHAM  1996   51825.784376\n",
       "2    BIRMINGHAM  1997   55774.519722\n",
       "3    BIRMINGHAM  1998   58658.715066\n",
       "4    BIRMINGHAM  1999   63519.954374\n",
       "..          ...   ...            ...\n",
       "133  UK Average  2013  256852.380000\n",
       "134  UK Average  2014  279107.480000\n",
       "135  UK Average  2015  296040.920000\n",
       "136  UK Average  2016  309769.170000\n",
       "137  UK Average  2017  328828.460000\n",
       "\n",
       "[138 rows x 3 columns]"
      ]
     },
     "execution_count": 21,
     "metadata": {},
     "output_type": "execute_result"
    }
   ],
   "source": [
    "#check final prepared data\n",
    "UK_Avg"
   ]
  },
  {
   "cell_type": "code",
   "execution_count": 10,
   "id": "2ef78772-4266-4089-9636-d36174e5b901",
   "metadata": {},
   "outputs": [],
   "source": [
    "#save this dataframe to an output file to avoid future cleaning\n",
    "UK_Avg.to_csv(\"/Users/chiragshah/Downloads/Documents/Semester 1/CA682 Data Visualization/Visualisation Assignment/Dataset/Final/lineplot.csv\")"
   ]
  },
  {
   "cell_type": "code",
   "execution_count": 11,
   "id": "7670a85d-f627-4df8-8028-bbef64ea5c65",
   "metadata": {},
   "outputs": [
    {
     "data": {
      "image/png": "[encoded data removed]",
      "text/plain": [
       "<Figure size 647.25x500 with 1 Axes>"
      ]
     },
     "metadata": {},
     "output_type": "display_data"
    }
   ],
   "source": [
    "#plot a relative graph using seaborn\n",
    "sns.set_style('darkgrid')\n",
    "ax=sns.relplot(data=UK_Avg,kind=\"line\",x=\"Year\",y=\"Price\",hue=\"Town/City\")\n",
    "ax.set(ylabel='Price in Pounds', xlabel='Year',title='Average UK housing price comparison with its top two cities.')\n",
    "plt.show()\n",
    "ax.savefig('Average.png')"
   ]
  },
  {
   "cell_type": "code",
   "execution_count": null,
   "id": "daafdb96-1559-4097-bef9-8cb6fed3e5a4",
   "metadata": {},
   "outputs": [],
   "source": []
  }
 ],
 "metadata": {
  "kernelspec": {
   "display_name": "Python 3 (ipykernel)",
   "language": "python",
   "name": "python3"
  },
  "language_info": {
   "codemirror_mode": {
    "name": "ipython",
    "version": 3
   },
   "file_extension": ".py",
   "mimetype": "text/x-python",
   "name": "python",
   "nbconvert_exporter": "python",
   "pygments_lexer": "ipython3",
   "version": "3.9.13"
  }
 },
 "nbformat": 4,
 "nbformat_minor": 5
}
